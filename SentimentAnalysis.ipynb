{
 "cells": [
  {
   "cell_type": "code",
   "execution_count": 1,
   "id": "2a380a3d",
   "metadata": {},
   "outputs": [
    {
     "name": "stderr",
     "output_type": "stream",
     "text": [
      "[nltk_data] Downloading package punkt to\n",
      "[nltk_data]     C:\\Users\\Udara\\AppData\\Roaming\\nltk_data...\n",
      "[nltk_data]   Package punkt is already up-to-date!\n"
     ]
    },
    {
     "data": {
      "text/plain": [
       "True"
      ]
     },
     "execution_count": 1,
     "metadata": {},
     "output_type": "execute_result"
    }
   ],
   "source": [
    "import numpy as np\n",
    "import pandas as pd\n",
    "import nltk\n",
    "from nltk import FreqDist\n",
    "import string\n",
    "nltk.download('punkt')"
   ]
  },
  {
   "cell_type": "code",
   "execution_count": 2,
   "id": "c5328f75",
   "metadata": {},
   "outputs": [],
   "source": [
    "df=pd.read_csv(\"politicalcomments.csv\")"
   ]
  },
  {
   "cell_type": "code",
   "execution_count": 3,
   "id": "8d641d0d",
   "metadata": {},
   "outputs": [
    {
     "data": {
      "text/html": [
       "<div>\n",
       "<style scoped>\n",
       "    .dataframe tbody tr th:only-of-type {\n",
       "        vertical-align: middle;\n",
       "    }\n",
       "\n",
       "    .dataframe tbody tr th {\n",
       "        vertical-align: top;\n",
       "    }\n",
       "\n",
       "    .dataframe thead th {\n",
       "        text-align: right;\n",
       "    }\n",
       "</style>\n",
       "<table border=\"1\" class=\"dataframe\">\n",
       "  <thead>\n",
       "    <tr style=\"text-align: right;\">\n",
       "      <th></th>\n",
       "      <th>comment</th>\n",
       "      <th>polarity</th>\n",
       "    </tr>\n",
       "  </thead>\n",
       "  <tbody>\n",
       "    <tr>\n",
       "      <th>0</th>\n",
       "      <td>jaya sri. Apita puluwan corona paraddala ratak...</td>\n",
       "      <td>POSITIVE</td>\n",
       "    </tr>\n",
       "    <tr>\n",
       "      <th>1</th>\n",
       "      <td>athi wishishtai janapathi thumani</td>\n",
       "      <td>POSITIVE</td>\n",
       "    </tr>\n",
       "    <tr>\n",
       "      <th>2</th>\n",
       "      <td>sancharana sima panawimata pilibada hadawathin...</td>\n",
       "      <td>POSITIVE</td>\n",
       "    </tr>\n",
       "    <tr>\n",
       "      <th>3</th>\n",
       "      <td>wasngathaya palanaya kirimata maha janathawada...</td>\n",
       "      <td>POSITIVE</td>\n",
       "    </tr>\n",
       "    <tr>\n",
       "      <th>4</th>\n",
       "      <td>obathumata janathawa bera ganimata nirogi suwa...</td>\n",
       "      <td>POSITIVE</td>\n",
       "    </tr>\n",
       "  </tbody>\n",
       "</table>\n",
       "</div>"
      ],
      "text/plain": [
       "                                             comment  polarity\n",
       "0  jaya sri. Apita puluwan corona paraddala ratak...  POSITIVE\n",
       "1                  athi wishishtai janapathi thumani  POSITIVE\n",
       "2  sancharana sima panawimata pilibada hadawathin...  POSITIVE\n",
       "3  wasngathaya palanaya kirimata maha janathawada...  POSITIVE\n",
       "4  obathumata janathawa bera ganimata nirogi suwa...  POSITIVE"
      ]
     },
     "execution_count": 3,
     "metadata": {},
     "output_type": "execute_result"
    }
   ],
   "source": [
    "df.head()"
   ]
  },
  {
   "cell_type": "code",
   "execution_count": 4,
   "id": "ae52599e",
   "metadata": {},
   "outputs": [],
   "source": [
    "def readData():\n",
    "    df = pd.read_csv('politicalcomments.csv')\n",
    "    positives=[]\n",
    "    negatives=[]\n",
    "    for y in range(19):\n",
    "        comment=df[\"comment\"].values[y]\n",
    "        if (df[\"polarity\"].values[y]==\"POSITIVE\"):\n",
    "            positives += [comment]\n",
    "        else:\n",
    "            negatives += [comment]\n",
    "    str1 ='< '\n",
    "    positivelist = appendbefore(positives, str1)\n",
    "    negativelist = appendbefore(negatives, str1)\n",
    "    str2=' >'\n",
    "    positive = [\"{}{}\".format(i,str2) for i in positivelist]\n",
    "    negative = [\"{}{}\".format(i,str2) for i in negativelist]\n",
    "    return positive,negative"
   ]
  },
  {
   "cell_type": "code",
   "execution_count": 5,
   "id": "66dba462",
   "metadata": {},
   "outputs": [],
   "source": [
    "def appendbefore(comments, str):\n",
    "      \n",
    "    str += '{0}'\n",
    "    comments = [str.format(i) for i in comments]\n",
    "    return(comments)"
   ]
  },
  {
   "cell_type": "code",
   "execution_count": 6,
   "id": "a7a5fd54",
   "metadata": {},
   "outputs": [],
   "source": [
    "def getngramLists(comments):\n",
    "    unigrams=[]\n",
    "    bigrams=[]\n",
    "    comment=''.join(map(str,comments))\n",
    "    \n",
    "    for line in comment:\n",
    "        commentlist=nltk.word_tokenize(comment)\n",
    "        unigrams=unigrams + list(commentlist)\n",
    "        \n",
    "    bigrams = [(x, i.split()[j + 1]) for i in comments \n",
    "       for j, x in enumerate(i.split()) if j < len(i.split()) - 1]\n",
    "    unigram_list=FreqDist(unigrams)\n",
    "    bigram_list=FreqDist(bigrams)\n",
    "    return unigram_list,bigram_list"
   ]
  },
  {
   "cell_type": "code",
   "execution_count": 7,
   "id": "d8600323",
   "metadata": {},
   "outputs": [],
   "source": [
    "def calProbability(bigramList,unigramList,testBigrams,vocabulary):\n",
    "    probability=1.00\n",
    "    for i in range(len(testBigrams)):\n",
    "        if testBigrams[i] in bigramList:\n",
    "            bigram_count=bigramList[testBigrams[i]]\n",
    "        else:\n",
    "            bigram_count=0\n",
    "        if testBigrams[i][0] in unigramList:\n",
    "            unigram_count=unigramList[testBigrams[i][0]]\n",
    "        else:\n",
    "            unigram_count=0\n",
    "        probability=probability* ((bigram_count+1)/(unigram_count+vocabulary))\n",
    "    return probability"
   ]
  },
  {
   "cell_type": "code",
   "execution_count": 8,
   "id": "bccfeb7f",
   "metadata": {},
   "outputs": [],
   "source": [
    "def getTest(test2):\n",
    "   bigram=[]\n",
    "   comment=''.join(map(str,test2))\n",
    "   commentlist=nltk.word_tokenize(comment)\n",
    "   bigram=nltk.bigrams(commentlist)\n",
    "   bigramlist=list(bigram)\n",
    "   testuni_count=len(bigramlist)\n",
    "   return bigramlist,testuni_count"
   ]
  },
  {
   "cell_type": "code",
   "execution_count": 9,
   "id": "5ad04169",
   "metadata": {},
   "outputs": [],
   "source": [
    "def getPerplexity(probability,n):\n",
    "    perplexity=pow(probability,(-1/n))\n",
    "    return perplexity"
   ]
  },
  {
   "cell_type": "code",
   "execution_count": 10,
   "id": "f9d95402",
   "metadata": {},
   "outputs": [
    {
     "name": "stdout",
     "output_type": "stream",
     "text": [
      "< obathumata dipu chandaya thamai api jiwithe karapu lokuma waradda >\n",
      "Negative Comment and perplexity is\n",
      "10.0\n",
      "< athi wishishtai janapathi thumani >\n",
      "Negative Comment and perplexity is\n",
      "5.0\n",
      "< mewa pawathina gatalu sadaha pilithuru nowe >\n",
      "Negative Comment and perplexity is\n",
      "7.0\n",
      "< jana jiwithaya adala nokara ganna thiranayak ganna >\n",
      "Negative Comment and perplexity is\n",
      "8.0\n",
      "< this wasaraka yuddaya nima karapu ape janapathi thumata corona kiyanne mokadda >\n",
      "Negative Comment and perplexity is\n",
      "11.999999999999998\n",
      "< ibi gamane yana rajaya >\n",
      "Negative Comment and perplexity is\n",
      "5.0\n",
      "< ithamath hoda wadapiliwelak janapathi thumani >\n",
      "Negative Comment and perplexity is\n",
      "6.0\n",
      "< obathuman gatha yuthu thirana kalata welawata ganna niwaradi nayakathwayai >\n",
      "Negative Comment and perplexity is\n",
      "10.0\n",
      "< kamituwe kasuppu jonnyath innawa >\n",
      "Negative Comment and perplexity is\n",
      "5.0\n",
      "< ballage wade buruwata karanna baa ne >\n",
      "Negative Comment and perplexity is\n",
      "7.0\n"
     ]
    }
   ],
   "source": [
    "if __name__ == '__main__':\n",
    "    positive_comments,negative_comments=readData()\n",
    "    posunigram_list,posbigram_list=getngramLists(positive_comments)\n",
    "    negunigram_list,negbigram_list=getngramLists(negative_comments)\n",
    "    test_comment=\"Jaya  wewa\"\n",
    "    df2 = pd.read_csv('test.csv')\n",
    "    testcomment=df2[\"comment\"]\n",
    "    \n",
    "    str1 ='< '\n",
    "    test1 = appendbefore(testcomment, str1)\n",
    "    str2=' >'\n",
    "    test2 = [\"{}{}\".format(i,str2) for i in test1]\n",
    "    for x in range(len(test2)):\n",
    "       test_bigrams,test_count=getTest(test2[x])\n",
    "       print(test2[x])\n",
    "       positive_probability=calProbability(posbigram_list,posunigram_list,test_bigrams,test_count)\n",
    "       negative_probability=calProbability(negbigram_list,negunigram_list,test_bigrams,test_count)\n",
    "       if(positive_probability>negative_probability):\n",
    "         print(\"Positive Comment and perplexity is\")\n",
    "         print(getPerplexity(positive_probability,test_count))\n",
    "       elif(positive_probability<negative_probability):\n",
    "         print(\"Negative Comment and perplexity is\")\n",
    "         print(getPerplexity(negative_probability,test_count))\n",
    "       else:\n",
    "         print(\"Cannot Decide\")"
   ]
  },
  {
   "cell_type": "code",
   "execution_count": 11,
   "id": "512540a7",
   "metadata": {},
   "outputs": [
    {
     "data": {
      "text/plain": [
       "[('<', 'ballage'),\n",
       " ('ballage', 'wade'),\n",
       " ('wade', 'buruwata'),\n",
       " ('buruwata', 'karanna'),\n",
       " ('karanna', 'baa'),\n",
       " ('baa', 'ne'),\n",
       " ('ne', '>')]"
      ]
     },
     "execution_count": 11,
     "metadata": {},
     "output_type": "execute_result"
    }
   ],
   "source": [
    "test_bigrams"
   ]
  },
  {
   "cell_type": "code",
   "execution_count": 12,
   "id": "fdd74cac",
   "metadata": {},
   "outputs": [
    {
     "data": {
      "text/plain": [
       "7.321593061481081e-13"
      ]
     },
     "execution_count": 12,
     "metadata": {},
     "output_type": "execute_result"
    }
   ],
   "source": [
    "positive_probability"
   ]
  },
  {
   "cell_type": "code",
   "execution_count": 13,
   "id": "5057c9fc",
   "metadata": {},
   "outputs": [
    {
     "data": {
      "text/plain": [
       "1.214265678902012e-06"
      ]
     },
     "execution_count": 13,
     "metadata": {},
     "output_type": "execute_result"
    }
   ],
   "source": [
    "negative_probability"
   ]
  },
  {
   "cell_type": "code",
   "execution_count": null,
   "id": "d01cbda3",
   "metadata": {},
   "outputs": [],
   "source": []
  }
 ],
 "metadata": {
  "kernelspec": {
   "display_name": "Python 3",
   "language": "python",
   "name": "python3"
  },
  "language_info": {
   "codemirror_mode": {
    "name": "ipython",
    "version": 3
   },
   "file_extension": ".py",
   "mimetype": "text/x-python",
   "name": "python",
   "nbconvert_exporter": "python",
   "pygments_lexer": "ipython3",
   "version": "3.9.5"
  }
 },
 "nbformat": 4,
 "nbformat_minor": 5
}
